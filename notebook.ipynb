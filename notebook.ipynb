import numpy as np 
import pandas as pd
 movies = pd.read_csv('tmdb_5000_movies.csv')
credits = pd.read_csv('tmdb_5000_credits.csv') 
movies.head(1)
movies =movies.merge(credits,on='title')
# id
#genres
# original_title
# popularity
# overview
#cast
#crew
movies = movies[['movie_id','title','overview','genres','keywords','cast','crew']]
movies.head()

import ast
def convert(text):
    L = []
    for i in ast.literal_eval(text):
        L.append(i['name']) 
return L 
movies['genres'] = movies['genres'].apply(convert)
movies.head()
movies['keywords'] = movies['keywords'].apply(convert)
movies.head()

def convert3(text):
    L = []
    counter = 0
    for i in ast.literal_eval(text):
        if counter != 3:
            L.append(i['name'])
        counter+=1
    return L 
movies['cast']=movies['cast'].apply(convert3)

def fetch_director(text):
    L = []
    for i in ast.literal_eval(text):
        if i['job'] == 'Director':
            L.append(i['name'])
    Return L
movies['crew']=movies['crew'].apply(fetch_director)
movies['overview'] = movies['overview'].apply(lambda x:x.split())

def collapse(L):
    L1 = []
    for i in L:
        L1.append(i.replace(" ",""))
    return L1
movies['cast'] = movies['cast'].apply(collapse)
movies['crew'] = movies['crew'].apply(collapse)
movies['genres'] = movies['genres'].apply(collapse)
movies['keywords'] = movies['keywords'].apply(collapse)
movies.head()

movies['tags'] = movies['overview'] + movies['genres'] + movies['keywords'] + movies['cast'] + movies['crew']
movies.head()
new_df = movies[['movie_id','title','tags']]
new_df
new_df['tags'] = new_df['tags'].apply(lambda x: " ".join(x))
new_df.head()
new_df['tags'] = new_df['tags'].apply(lambda x:x.lower())
new_df.head()

!pip install nltk
import nltk
from nltk.stem.porter import PorterStemmer
ps=PorterStemmer()
def stem(text):
    y=[]
    for i in text.split():
        y.append(ps.stem(i))
    return " ".join(y)
new_df['tags']=new_df['tags'].apply(stem)

from sklearn.feature_extraction.text import CountVectorizer
cv = CountVectorizer(max_features=5000,stop_words='english')
vectors = cv.fit_transform(new_df['tags']).toarray()
vectors

from sklearn.metrics.pairwise import cosine_similarity
similarity = cosine_similarity(vectors)
similarity
new_df[new_df['title'] == 'The Lego Movie'].index[0]
def recommend(movie):
    movie_index = new_df[new_df['title'] == movie].index[0]
    distances = similarity[movie_index]
    movies_list=sorted(list(enumerate(distances)),reverse=True,key = lambda x: x[1])[1:6]
    
    for i in movies_list:
        print(new_df.iloc[i[0]].title)
recommend('Batman Begins')
new_df.iloc[1216].title

import pickle
new_df.to_dict()  //converting data frame to dict as is it creating problem in pycharm data frame is not being transferred
